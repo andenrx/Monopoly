{
 "cells": [
  {
   "cell_type": "markdown",
   "metadata": {
    "id": "FgxV1jTTcnW1"
   },
   "source": [
    "> **Andrew Bauer**\n",
    "> \n",
    "> 913-671-0313\n",
    "> \n",
    "> abauer7@asu.edu\n",
    "\n",
    "----"
   ]
  },
  {
   "cell_type": "markdown",
   "metadata": {},
   "source": [
    "# For Interactive Version try it on [Google Colab](https://colab.research.google.com/drive/1HkM5sumCGutjZLHW3eh8ynR4g7aaUW7x?usp=sharing)\n",
    "-------------"
   ]
  },
  {
   "cell_type": "markdown",
   "metadata": {
    "id": "43HUW0lj-IV_"
   },
   "source": [
    "# Introduction"
   ]
  },
  {
   "cell_type": "markdown",
   "metadata": {
    "id": "8FviXmQl-NjZ"
   },
   "source": [
    "The game of Monopoly is played on a board with 40 spaces. Players roll dice to move. Depending on which space a player lands on, they may be able to purchase a property, be forced to pay, or one of many other effects. Movement in Monopoly is hugely important, but completely probabilistic. As such, we would like to be able to describe the probability distribution of a player after an arbitrary number of turns.\n",
    "\n",
    "Below we will work through a mathematical method of calculating the probability distribution after $n$ turns as well as the distribution as $n \\to \\infty$. Then we will also calculate the average number of turns required to travel from one space to another."
   ]
  },
  {
   "cell_type": "code",
   "execution_count": 1,
   "metadata": {
    "id": "DNCW1muQwyW8"
   },
   "outputs": [],
   "source": [
    "import numpy as np\n",
    "import helper as helper\n",
    "from functools import lru_cache as memoize\n",
    "from itertools import product\n",
    "from ipywidgets import interact\n",
    "from matplotlib import pyplot"
   ]
  },
  {
   "cell_type": "markdown",
   "metadata": {
    "id": "1KVRosy9MmPI"
   },
   "source": [
    "## Monopoly Board"
   ]
  },
  {
   "cell_type": "markdown",
   "metadata": {
    "id": "S86JViY2MgyP"
   },
   "source": [
    "![](https://pbs.twimg.com/media/DMW3Pl7X4AEPFCG.jpg)\n"
   ]
  },
  {
   "cell_type": "markdown",
   "metadata": {
    "id": "snO3Ock-MoeC"
   },
   "source": [
    "# Representation"
   ]
  },
  {
   "cell_type": "markdown",
   "metadata": {
    "id": "Q3uYwZLvscgR"
   },
   "source": [
    "We can think of the monopoly board as a *graph*. Each space is a *node* and the different movement options between spaces are represented as *edges*.\n",
    "\n",
    "Furthermore, the movement is completely probabilistic and the distribution is entirely determined by the current node (this type of graph is known as a [Markov Chain](https://en.wikipedia.org/wiki/Markov_chain)). We then can assign a weight to each edge, corresponding to the probability of moving from a given tile to another tile. Graph edges can be represented in multiple ways, but in our case we will choose to represent them by an [Adjacency Matrix](https://en.wikipedia.org/wiki/Adjacency_matrix). In order to make this representation work, we need to have some way to represent the spaces as numbers. \n",
    "\n",
    "Below we have each tile listed (clockwise starting from Go). We will number each space in order starting from 0. So, for example, Go is space 0, Boardwalk is space 39. \n",
    "\n",
    "Jail is split across 3 spaces. Jail (40) is for players who just arrived. Jail (41) is for players who were in jail previously but failed to roll doubles. If a player fails to roll doubles on the second turn in jail, they will be released next turn regardless of what they roll. For this reason, if a player fails to roll doubles on the second turn, they are sent to the Just Visiting space. "
   ]
  },
  {
   "cell_type": "code",
   "execution_count": 2,
   "metadata": {
    "id": "WaIyVKljQ_qx"
   },
   "outputs": [
    {
     "data": {
      "text/plain": [
       "[' 0. Go',\n",
       " ' 1. Mediterranean Avenue',\n",
       " ' 2. Community Chest',\n",
       " ' 3. Baltic Avenue',\n",
       " ' 4. Income Tax',\n",
       " ' 5. Reading Railroad',\n",
       " ' 6. Oriental Avenue',\n",
       " ' 7. Chance',\n",
       " ' 8. Vermont Avenue',\n",
       " ' 9. Connecticut Avenue',\n",
       " '10. Just Visiting',\n",
       " '11. St. Charles Place',\n",
       " '12. Electric Company',\n",
       " '13. States Avenue',\n",
       " '14. Virginia Avenue',\n",
       " '15. Pennsylvania Railroad',\n",
       " '16. St. James Place',\n",
       " '17. Community Chest',\n",
       " '18. Tennessee Avenue',\n",
       " '19. New York Avenue',\n",
       " '20. Free Parking',\n",
       " '21. Kentucky Avenue',\n",
       " '22. Chance',\n",
       " '23. Indiana Avenue',\n",
       " '24. Illinois Avenue',\n",
       " '25. B&O Railroad',\n",
       " '26. Atlantic Avenue',\n",
       " '27. Ventnor Avenue',\n",
       " '28. Water Works',\n",
       " '29. Marvin Gardens',\n",
       " '30. Go to Jail',\n",
       " '31. Pacific Avenue',\n",
       " '32. North Carolina Avenue',\n",
       " '33. Community Chest',\n",
       " '34. Pennsylvania Avenue',\n",
       " '35. Short Line',\n",
       " '36. Chance',\n",
       " '37. Park Place',\n",
       " '38. Luxury Tax',\n",
       " '39. Boardwalk',\n",
       " '40. Jail',\n",
       " '41. Jail']"
      ]
     },
     "execution_count": 2,
     "metadata": {},
     "output_type": "execute_result"
    }
   ],
   "source": [
    "helper.SPACES"
   ]
  },
  {
   "cell_type": "markdown",
   "metadata": {
    "id": "i4zNt0w3xoZ8"
   },
   "source": [
    "Now we will let $T \\in \\mathbb{R}^{42 \\times 42}$ be the adjacency matrix so that $T_{i,j}$ is the probability of transitioning to state $i$ from state $j$. For example, $T_{40, 0} = 0.5$, means that starting from Go, there is a 50% chance to finish the turn in Jail. We also can see that $\\sum_{i=0}^{41}T_{i,j} = 1$ for any $j$ (there is a 100% chance that the player will still be on the board after moving). \n",
    "\n",
    "Now we will construct the adjacency matrix, $T$. We will divide this process into two steps. \n",
    "\n",
    "* First, we will find the probability of getting a specific roll. In Monopoly, rolling doubles allows the player to roll again and add that to their total. However, if the player rolls doubles three times in a row, they go to jail.\n",
    "\n",
    "* Then, we will account for certain board effects, such as cards and jail. [Chance](https://monopoly.fandom.com/wiki/Chance) and [Community Chest](https://monopoly.fandom.com/wiki/Community_Chest) decks are assumed to be reshuffled after each draw for simplicity."
   ]
  },
  {
   "cell_type": "code",
   "execution_count": 3,
   "metadata": {
    "colab": {
     "base_uri": "https://localhost:8080/"
    },
    "id": "wRRmhcIsLa-i",
    "outputId": "e7c17215-c5e6-4201-d5f3-cc31e4e4ab7b"
   },
   "outputs": [
    {
     "name": "stdout",
     "output_type": "stream",
     "text": [
      "  0  |  0.0%\n",
      "  1  |  0.0%\n",
      "  2  |  0.0%\n",
      "  3  |  5.6%\n",
      "  4  |  5.6%\n",
      "  5  | 11.3%\n",
      "  6  | 11.3%\n",
      "  7  | 17.1%\n",
      "  8  | 11.6%\n",
      "  9  | 12.1%\n",
      " 10  |  6.3%\n",
      " 11  |  6.8%\n",
      " 12  |  1.0%\n",
      " 13  |  1.5%\n",
      " 14  |  1.0%\n",
      " 15  |  1.5%\n",
      " 16  |  1.0%\n",
      " 17  |  1.4%\n",
      " 18  |  0.9%\n",
      " 19  |  1.1%\n",
      " 20  |  0.6%\n",
      " 21  |  0.7%\n",
      " 22  |  0.3%\n",
      " 23  |  0.3%\n",
      " 24  |  0.1%\n",
      " 25  |  0.2%\n",
      " 26  |  0.1%\n",
      " 27  |  0.1%\n",
      " 28  |  0.1%\n",
      " 29  |  0.1%\n",
      " 30  |  0.0%\n",
      " 31  |  0.0%\n",
      " 32  |  0.0%\n",
      " 33  |  0.0%\n",
      " 34  |  0.0%\n",
      " 35  |  0.0%\n",
      "Jail |  0.5%\n"
     ]
    }
   ],
   "source": [
    "dice = (1,2,3,4,5,6)\n",
    "@memoize(3)\n",
    "def generate_dice_pdf(doubles_left=3) -> (np.ndarray, float):\n",
    "  \"\"\"Generate the probability distribution arising from dice\n",
    "\n",
    "  This function finds the probability distribution from rolling two dice while\n",
    "  accounting for doubles. The argument doubles_left specifies how many times \n",
    "  you need to roll doubles to get jailed (by default 3). The function returns a\n",
    "  tuple (prob, jail). 'prob' is a numpy array where prob[i] is the probability \n",
    "  of rolling i. 'prob' has shape (12*doubles_left,) as rolling 12*doubles_left\n",
    "  or higher would require rolling doubles at least doubles_left number of times.\n",
    "  'jail' is a number corresponding to the probability of going to jail.\n",
    "  \"\"\"\n",
    "  prob = np.zeros(12 * doubles_left) \n",
    "  jail = 0\n",
    "  for i, j in product(dice, dice): # Roll two dice\n",
    "    if i == j:\n",
    "      # Doubles\n",
    "      if doubles_left > 1:\n",
    "        nested_prob, nested_jail = generate_dice_pdf(doubles_left-1)\n",
    "        jail += nested_jail / 36\n",
    "        # Add the probabilities, but shift them by i+j\n",
    "        prob[i+j:i+j+len(nested_prob)] += nested_prob / 36\n",
    "      else:\n",
    "        # Three doubles, go directly to jail!\n",
    "        jail += 1/36\n",
    "    else:\n",
    "      prob[i+j] += 1/36\n",
    "  assert np.isclose(prob.sum() + jail, 1), (prob, jail)\n",
    "  return prob, jail\n",
    "\n",
    "for roll, p in enumerate(generate_dice_pdf()[0]):\n",
    "  print(f\" {roll:2}  | {100*p:4.1f}%\")\n",
    "print(f\"Jail | {100*generate_dice_pdf()[1]:4.1f}%\")"
   ]
  },
  {
   "cell_type": "code",
   "execution_count": 4,
   "metadata": {
    "id": "RwioFpwBfR2r"
   },
   "outputs": [],
   "source": [
    "def adjacency_matrix() -> np.ndarray(shape=(42, 42)):\n",
    "  \"\"\"Create the full adjacency matrix for Monopoly\n",
    "\n",
    "  T[i, j] is probability of going to i from j\n",
    "   - T[:, j] must sum to 1\n",
    "  \"\"\"\n",
    "  T = np.zeros((42,42))\n",
    "  dice_pdf, jail = generate_dice_pdf()\n",
    "  assert dice_pdf.sum() + jail == 1\n",
    "\n",
    "  for i in range(40):\n",
    "    # The line below is almost equivalent to \n",
    "    # trans[i:i+36, i] = dice_pdf\n",
    "    # Except that it will wrap around if the index goes past 40\n",
    "    T[:40,i].put(range(i,i+36), dice_pdf, mode='wrap')\n",
    "    T[40,i] += jail\n",
    "\n",
    "    # Handle Chance's, Community Chest's, and the Go to Jail space\n",
    "    for chance in helper.CHANCE:\n",
    "      card_chance = T[chance,i]/16 # Chance of drawing any given card\n",
    "      T[chance,i] -= card_chance * 9 # There are 9 movement cards\n",
    "      T[0,i]  += card_chance # Advance to Go\n",
    "      T[24,i] += card_chance # Advance to Illinois Ave\n",
    "      T[11,i] += card_chance # Advance to St. Charles Place\n",
    "      T[i-3,i]+= card_chance # Go Back 3 Spaces\n",
    "      T[40,i] += card_chance # Go to Jail\n",
    "      T[5,i]  += card_chance # Take a trip to Reading Railroad\n",
    "      T[39,i] += card_chance # Take a walk on the Boardwalk\n",
    "      T[helper.next_railroad(i), i] += card_chance # Advance to the nearest Railroad\n",
    "      T[28 if 12 <= i < 28 else 12,i] += card_chance # Advance to nearest Utility\n",
    "\n",
    "    for community in helper.COMMUNITY_CHEST:\n",
    "      card_chance = T[community,i]/17 # Chance of drawing any given card\n",
    "      T[community,i] -= card_chance * 2 # There are 2 movement cards\n",
    "      T[0,i]  += card_chance # Advance to Go\n",
    "      T[40,i] += card_chance # Go to Jail\n",
    "\n",
    "    for gtj in helper.GO_TO_JAIL:\n",
    "      T[40,i] += T[gtj,i]\n",
    "      T[gtj,i] = 0\n",
    "\n",
    "  # Jail\n",
    "  # On the first (40) and second (41) turn, the player has a 1/6 chance of\n",
    "  # rolling doubles. In this case, they are effectively in the \"Just Visiting\"\n",
    "  # space. Otherwise they move to the next turn of jail. On the third turn,\n",
    "  # they are let go, regardless of whether they roll doubles, so effectively \n",
    "  # they are in the \"Just Visiting\" space (10)\n",
    "  T[:,40] = T[:,10] / 6\n",
    "  T[:,41] = T[:,10] / 6\n",
    "  T[41,40] = 5/6\n",
    "  T[10,41] = 5/6\n",
    "\n",
    "  assert np.allclose(T.sum(axis=0), 1), \"Probabilities do not add up\"\n",
    "  return T\n",
    "\n",
    "T = adjacency_matrix()"
   ]
  },
  {
   "cell_type": "markdown",
   "metadata": {
    "id": "ih1FmU1xEvCb"
   },
   "source": [
    "Now, we may want to also define a player's position. We can do so with a probability vector, for example, $p \\in \\mathbb{R}^{42}$. Then $p_i$ represents the probability that the player is in state $i$. \n",
    "\n",
    "For example, a player who is on Go with certainty would be described by the vector $$\n",
    "p = \\begin{bmatrix}\n",
    "           1 \\\\\n",
    "           0 \\\\\n",
    "           \\vdots \\\\\n",
    "           0\n",
    "\\end{bmatrix}\n",
    "$$"
   ]
  },
  {
   "cell_type": "code",
   "execution_count": 5,
   "metadata": {
    "id": "pfptr_OwPwKq"
   },
   "outputs": [],
   "source": [
    "def state(i: range(0,42)) -> np.ndarray(shape=(42, 1)):\n",
    "  \"\"\"Probability vector for being in state i with certainty\n",
    "  \n",
    "  This is the same as onehot encoding with a maximum size of 42\n",
    "  \"\"\"\n",
    "  if i < 0 or 42 <= i:\n",
    "    raise ValueError(f\"Expected 0 <= i < 42, instead got {i}.\")\n",
    "  s = np.zeros((42, 1))\n",
    "  s[i] = 1\n",
    "  return s"
   ]
  },
  {
   "cell_type": "markdown",
   "metadata": {
    "id": "THx_ZKNZ9aSG"
   },
   "source": [
    "# Probability Distribution after 1 turn"
   ]
  },
  {
   "cell_type": "markdown",
   "metadata": {
    "id": "tcK8l-dVR0gz"
   },
   "source": [
    "Now, let $u, v \\in \\mathbb{R}^{42}$ where $u$ is the probability distribution associated with a player before movement and $v$ is the probability distribution after movement. Then we know that \n",
    "$$\n",
    "\\begin{align}\n",
    "v_i &= \\sum_{j=0}^{41} T_{i, j} u_{j} \\\\\n",
    "&= (T u)_i\n",
    "\\end{align}\n",
    "$$ \n",
    "\n",
    "And therefore $v = T u$, (matrix multiplication)"
   ]
  },
  {
   "cell_type": "markdown",
   "metadata": {
    "id": "juWXAv2BhfEd"
   },
   "source": [
    "Below you can use the drop down box to preview what happens when you move, starting from a specific state."
   ]
  },
  {
   "cell_type": "code",
   "execution_count": 6,
   "metadata": {
    "colab": {
     "base_uri": "https://localhost:8080/",
     "height": 788,
     "referenced_widgets": [
      "65b61815b8574438a6f3f86331a64c1b",
      "4b126271ebb846e2842b105c43edf92b",
      "9054758472fd4270a71c19cb0ce5bef9",
      "3ba2790bb4d8469f8800fda853efadb2",
      "7d61f791ff474fa19973a6b5730abf42",
      "dc2b6d721a0f4f45824951fa40f79566",
      "258ad192a5624ef2beaa5cf784febf3d"
     ]
    },
    "id": "EnQd5TMmhFHg",
    "outputId": "15b00369-b86f-459b-c6fb-0107fa361825"
   },
   "outputs": [
    {
     "data": {
      "application/vnd.jupyter.widget-view+json": {
       "model_id": "5a41496115c545d699c43456242eebb9",
       "version_major": 2,
       "version_minor": 0
      },
      "text/plain": [
       "interactive(children=(Dropdown(description='space', options=(' 0. Go', ' 1. Mediterranean Avenue', ' 2. Commun…"
      ]
     },
     "metadata": {},
     "output_type": "display_data"
    }
   ],
   "source": [
    "@interact\n",
    "def from_start(space=helper.SPACES):\n",
    "  # Note that in numpy\n",
    "  # * is elementwise multiplication\n",
    "  # @ is matrix multiplcation\n",
    "  print(helper.format(T @ state(helper.SPACES.index(space))))"
   ]
  },
  {
   "cell_type": "markdown",
   "metadata": {
    "id": "3kvgHG1S9opU"
   },
   "source": [
    "# Generalizing to $n$ turns"
   ]
  },
  {
   "cell_type": "markdown",
   "metadata": {
    "id": "K5zUEeg9jxRq"
   },
   "source": [
    "Now, if we let $v^{(0)}$ be the starting probability distribution, then $v^{(1)} = Tv^{(0)}$ is the probability distribution after one turn, and $v^{(2)} = Tv^{(1)}$ is the distribution after two turns. In general $$v^{(n+1)} = Tv^{(n)} = \\underbrace{T T \\cdots T}_{n}v^{(0)} = T^n v^{(0)}$$\n",
    "\n",
    "Now, we can find the probability distribution after $n$ turns by calculating $T^n v^{(0)}$, however, we can simplify this further. We will decompose $T$ into its eigenvalues, $\\lambda_i$ (together as $\\Lambda$) and eigenvectors $\\omega_i$ (together as $\\Omega$). Then $T \\omega_i = \\lambda_i \\omega_i$ and $T \\Omega = \\lambda \\cdot \\Omega$ (elementwise multiplcation). Then we find that $T^n\\omega_i = \\lambda_i^n \\omega_i$ (so $T^n\\Omega = \\Lambda^n \\cdot \\Omega$ with $\\Lambda^n$ being elementwise). Then\n",
    "\n",
    "$$\\begin{align}\n",
    "v^{(n)} &= T^nv^{(0)} \\\\\n",
    "&= T^n \\Omega \\Omega^{-1} v^{(0)} \\\\\n",
    "&= (\\Lambda^n \\cdot \\Omega) \\Omega^{-1} v^{(0)} \\\\\n",
    "\\end{align}$$\n",
    "\n",
    "Below we create the $n$-move transition matrix: $T^n = (\\Lambda^n \\cdot \\Omega) \\Omega^{-1}$."
   ]
  },
  {
   "cell_type": "code",
   "execution_count": 7,
   "metadata": {
    "id": "uLR8SJ1wjNT-"
   },
   "outputs": [],
   "source": [
    "Lambda, Omega = np.linalg.eig(T)\n",
    "Omega_inv = np.linalg.inv(Omega)\n",
    "\n",
    "def transition_n(n: int) -> np.ndarray:\n",
    "  \"\"\"Generate a transition matrix for moving n turns\n",
    "  \n",
    "  Returns a transition matrix of shape (42, 42). Multiplying by this matrix is\n",
    "  the same as multiplying by T n times and results in the probability \n",
    "  distribution n turns later.\n",
    "  \"\"\"\n",
    "  if n < 0:\n",
    "    raise ValueError(f\"Expected n >= 0, instead got {n}.\")\n",
    "  trans = (Lambda**n * Omega) @ Omega_inv\n",
    "  assert np.isclose(trans.imag, 0).all(), \"All the complex numbers should cancel out\"\n",
    "  return trans.real"
   ]
  },
  {
   "cell_type": "markdown",
   "metadata": {
    "id": "-oQHHoe6U_fR"
   },
   "source": [
    "Now we can preview the probability of landing on any given tile after $n$ moves. Use the drop down box to select the starting location and the slider to decide how many turns ($n$)."
   ]
  },
  {
   "cell_type": "code",
   "execution_count": 8,
   "metadata": {
    "colab": {
     "base_uri": "https://localhost:8080/",
     "height": 820,
     "referenced_widgets": [
      "7433fd74d57545b5bf631ef52e8e8300",
      "fdb8b6c92fbb464f8388135cd0a7d8d1",
      "95588b2b66b74bb0af264f122bf4ee1a",
      "221ed907d0714f1cb7a92dd0a9b98335",
      "fb732e44554f4d17872174e7b9f133e4",
      "e852f5f705684f71a5463730be47e947",
      "1344f925f81144cb957176c68c210398",
      "69778e6912ea4fdfa3916aa814b2a80a",
      "0c15ca06aed3426f8602dd01ba74b0e7",
      "9f872d14393a441eaf96e2d103a57b98"
     ]
    },
    "id": "fyL1IjYNnZUE",
    "outputId": "6eedef29-fe5a-488f-ef64-0c80b0450e99"
   },
   "outputs": [
    {
     "data": {
      "application/vnd.jupyter.widget-view+json": {
       "model_id": "eed6e6e925854561b1fda004568f7c8e",
       "version_major": 2,
       "version_minor": 0
      },
      "text/plain": [
       "interactive(children=(Dropdown(description='starting_state', options=(' 0. Go', ' 1. Mediterranean Avenue', ' …"
      ]
     },
     "metadata": {},
     "output_type": "display_data"
    }
   ],
   "source": [
    "@interact\n",
    "def n_from_start(starting_state=helper.SPACES, n=(0, 10, 1)):\n",
    "  print(helper.format(transition_n(n) @ state(helper.SPACES.index(starting_state))))"
   ]
  },
  {
   "cell_type": "markdown",
   "metadata": {
    "id": "_f1h2w3I9yoC"
   },
   "source": [
    "# Generalizing as $n \\to \\infty$ turns"
   ]
  },
  {
   "cell_type": "markdown",
   "metadata": {
    "id": "-YunoQ7V1baa"
   },
   "source": [
    "Now a natural question is what happens with \n",
    "\n",
    "$$v^{(\\infty)}=\\lim_{n\\to\\infty}v^{(n)}$$\n",
    "\n",
    "That is quite a significant question, as it represents the long term probability that a player is on any given tile. This can be used to determine how much to value a certain space. For example, $v^{(\\infty)}_{19} = 3.18$% (Illinois Avenue). Taking this into account we can figure out the expected income (per turn per opponent) and create the following table.\n",
    "\n",
    "**Illinois Avenue**\n",
    "\n",
    "Houses | 0 | 1 | 2 | 3 | 4\n",
    "-------|---:|---:|---:|---:|--:\n",
    "Cost   |\\\\$200 |\\\\$350 |\\\\$500 |\\\\$650 |\\\\$800\n",
    "Rent   |\\\\$20 |\\\\$100 |\\\\$300 |\\\\$750 |\\\\$925\n",
    "Income |\\\\$0.56|\\\\$2.78|\\\\$8.33|\\\\$20.83|\\\\$25.69\n",
    "ROI |0.28%|0.79%|1.67%|3.2%|3.21%\n",
    "Breakeven |360.1|126.0|60.0|31.2|31.1\n",
    "\n",
    "We can make an equivalent table for Boardwalk ($v^{(\\infty)}_{39}=2.62$%):\n",
    "\n",
    "**Board Walk**\n",
    "\n",
    "Houses | 0 | 1 | 2 | 3 | 4\n",
    "-------|---:|---:|---:|---:|--:\n",
    "Cost   |\\\\$400|\\\\$600|\\\\$800|\\\\$1000|\\\\$1200\n",
    "Rent   |\\\\$35|\\\\$175|\\\\$500|\\\\$1100|\\\\$1300\n",
    "Income |\\\\$0.87|\\\\$4.35|\\\\$12.43|\\\\$27.34|\\\\$32.31\n",
    "ROI |0.22%|0.72%|1.55%|2.73%|2.69%\n",
    "Breakeven |459.9|138.0|64.4|36.6|37.1\n",
    "\n",
    "The charts suggest that Illinois Avenue is a better investment than Board Walk.\n",
    "\n",
    "------"
   ]
  },
  {
   "cell_type": "markdown",
   "metadata": {
    "id": "uqT5Z6-tsEyw"
   },
   "source": [
    "Now we would like to calculate $v^{(\\infty)}$. \n",
    "\n",
    "We know that $$v^{(\\infty)} = \\lim_{n \\to \\infty} v^{(n)} = \\lim_{n\\to\\infty}(\\Lambda^n \\cdot \\Omega) \\Omega^{-1} v^{(0)}$$\n",
    "\n",
    "Additionally, we know that for any number, $r \\in \\mathbb{R}$, if $|r| < 1$, $\\lim_{n\\to\\infty}r^n = 0$. Furthermore, we see that $\\lambda_0 = 1$ (we can prove this too), but otherwise $|\\lambda_i| < 1$. Therefore \n",
    "$$\n",
    "\\lim_{n \\to \\infty} \\Lambda^n = \n",
    "\\begin{bmatrix}\n",
    "1\\\\\n",
    "0\\\\\n",
    "0\\\\\n",
    "\\vdots\\\\\n",
    "0\n",
    "\\end{bmatrix}\n",
    "$$\n",
    "\n",
    "Then \n",
    "\n",
    "$$\\lim_{n\\to\\infty} \\Lambda^n \\cdot \\Omega = \\omega_0$$\n",
    "\n",
    "Therefore, \n",
    "\n",
    "$$\\lim_{n\\to\\infty}(\\Lambda^n \\cdot \\Omega) \\Omega^{-1} v^{(0)} = \\omega_0 (\\Omega^{-1})_0^Tv^{(0)}$$\n",
    "\n",
    "However, if we look at $(\\Omega^{-1})_0$, we see:"
   ]
  },
  {
   "cell_type": "code",
   "execution_count": 9,
   "metadata": {
    "colab": {
     "base_uri": "https://localhost:8080/"
    },
    "id": "Gt71icFsxrOL",
    "outputId": "85328d7a-ce28-4950-b5dc-4035a08cafae"
   },
   "outputs": [
    {
     "data": {
      "text/plain": [
       "array([0.16135371, 0.16135371, 0.16135371, 0.16135371, 0.16135371,\n",
       "       0.16135371, 0.16135371, 0.16135371, 0.16135371, 0.16135371,\n",
       "       0.16135371, 0.16135371, 0.16135371, 0.16135371, 0.16135371,\n",
       "       0.16135371, 0.16135371, 0.16135371, 0.16135371, 0.16135371,\n",
       "       0.16135371, 0.16135371, 0.16135371, 0.16135371, 0.16135371,\n",
       "       0.16135371, 0.16135371, 0.16135371, 0.16135371, 0.16135371,\n",
       "       0.16135371, 0.16135371, 0.16135371, 0.16135371, 0.16135371,\n",
       "       0.16135371, 0.16135371, 0.16135371, 0.16135371, 0.16135371,\n",
       "       0.16135371, 0.16135371])"
      ]
     },
     "execution_count": 9,
     "metadata": {},
     "output_type": "execute_result"
    }
   ],
   "source": [
    "assert np.isclose(Omega_inv[0,:].imag, 0).all(), \"There should be no imaginary component\"\n",
    "for i, j in product(range(0, 42), range(0, 42)):\n",
    "  assert np.isclose(Omega_inv[0,i], Omega_inv[0,j])\n",
    "Omega_inv[0,:].real"
   ]
  },
  {
   "cell_type": "markdown",
   "metadata": {
    "id": "hGfHinuAyHgL"
   },
   "source": [
    "Each entry is identical. Therefore consider $c = (\\Omega^{-1})_{0,i}$. Then\n",
    "\n",
    "$\\begin{align*}\n",
    "(\\Omega^{-1})^T_0 v^{(0)} \n",
    "&= \\sum_{i=0}^{41} c v^{(0)}_i\\\\\n",
    "&= c \\sum_{i=0}^{41}v_i^{(0)}\\\\\n",
    "&= c\n",
    "\\end{align*}$ \n",
    "\n",
    "Where the last line is true since $v_i^{(0)}$ was a probability vector and must sum to $1$. \n",
    "\n",
    "Therefore we can see that \n",
    "\n",
    "$$v^{(\\infty)} = \\omega_0 (\\Omega^{-1})_0^Tv^{(0)} = c \\omega_0$$\n",
    "\n",
    "Notice that $v^{(\\infty)}$ has no dependence on $v^{(0)}$. This means that in the long run it does not matter where you started.\n",
    "\n",
    "Additionally, since $c$ is just a constant, and since $v^{(\\infty)}$ must be a probability vector (and must sum to $1$), we see that $c = \\left(\\sum_{n=0}^{41}\\omega_i \\right)^{-1}$.\n",
    "\n",
    "Now we are finally ready to calculate $v^{(\\infty)}$."
   ]
  },
  {
   "cell_type": "code",
   "execution_count": 10,
   "metadata": {
    "colab": {
     "base_uri": "https://localhost:8080/"
    },
    "id": "jqk1Sj7VxoxZ",
    "outputId": "2613569b-18c3-4818-bd5b-0ab07cfb679d"
   },
   "outputs": [
    {
     "name": "stdout",
     "output_type": "stream",
     "text": [
      " 0. Go                    :  3.01%\n",
      " 1. Mediterranean Avenue  :  2.03%\n",
      " 2. Community Chest       :  1.90%\n",
      " 3. Baltic Avenue         :  2.08%\n",
      " 4. Income Tax            :  2.14%\n",
      " 5. Reading Railroad      :  2.69%\n",
      " 6. Oriental Avenue       :  2.20%\n",
      " 7. Chance                :  0.96%\n",
      " 8. Vermont Avenue        :  2.25%\n",
      " 9. Connecticut Avenue    :  2.22%\n",
      "10. Just Visiting         :  4.81%\n",
      "11. St. Charles Place     :  2.59%\n",
      "12. Electric Company      :  2.36%\n",
      "13. States Avenue         :  2.30%\n",
      "14. Virginia Avenue       :  2.28%\n",
      "15. Pennsylvania Railroad :  2.61%\n",
      "16. St. James Place       :  2.58%\n",
      "17. Community Chest       :  2.51%\n",
      "18. Tennessee Avenue      :  2.68%\n",
      "19. New York Avenue       :  2.78%\n",
      "20. Free Parking          :  2.60%\n",
      "21. Kentucky Avenue       :  2.64%\n",
      "22. Chance                :  1.09%\n",
      "23. Indiana Avenue        :  2.53%\n",
      "24. Illinois Avenue       :  2.99%\n",
      "25. B&O Railroad          :  2.63%\n",
      "26. Atlantic Avenue       :  2.55%\n",
      "27. Ventnor Avenue        :  2.47%\n",
      "28. Water Works           :  2.67%\n",
      "29. Marvin Gardens        :  2.41%\n",
      "30. Go to Jail            :  0.00%\n",
      "31. Pacific Avenue        :  2.47%\n",
      "32. North Carolina Avenue :  2.22%\n",
      "33. Community Chest       :  2.37%\n",
      "34. Pennsylvania Avenue   :  2.41%\n",
      "35. Short Line            :  2.39%\n",
      "36. Chance                :  0.98%\n",
      "37. Park Place            :  2.02%\n",
      "38. Luxury Tax            :  2.14%\n",
      "39. Boardwalk             :  2.49%\n",
      "40. Jail                  :  3.79%\n",
      "41. Jail                  :  3.17%\n"
     ]
    }
   ],
   "source": [
    "assert np.isclose(Omega[:,0].imag, 0).all(), \"The imaginary part should cancel out\"\n",
    "omega0 = Omega[:,0].real\n",
    "c = 1 / omega0.sum()\n",
    "v_inf = (omega0 * c)[:,None]\n",
    "print(helper.format(v_inf))"
   ]
  },
  {
   "cell_type": "markdown",
   "metadata": {
    "id": "OdW7gMoQ5Rai"
   },
   "source": [
    "# Visualizing Results"
   ]
  },
  {
   "cell_type": "code",
   "execution_count": 11,
   "metadata": {
    "colab": {
     "base_uri": "https://localhost:8080/",
     "height": 295
    },
    "id": "5WmQleaG4tOQ",
    "outputId": "93aad92e-5ab5-4ee1-caa8-590062b888f9"
   },
   "outputs": [
    {
     "data": {
      "image/png": "[encoded data removed]",
      "text/plain": [
       "<Figure size 432x288 with 1 Axes>"
      ]
     },
     "metadata": {
      "needs_background": "light"
     },
     "output_type": "display_data"
    }
   ],
   "source": [
    "helper.plot_long_term_probability(v_inf)"
   ]
  },
  {
   "cell_type": "markdown",
   "metadata": {
    "id": "dufPjnjs6kfe"
   },
   "source": [
    "We see that by far the most visited spaces are Jail. Additionally, we see that the spaces in the middle are quite common. This is likely because they are easily accessible from jail (check out $T v_{10}$ above).\n",
    "\n",
    "Below is an interactive chart that shows the probability of traveling from a given tile to another given tile after $n$ turns. The numbers are calculated from the formula $(\\Lambda^n \\cdot \\Omega) \\Omega^{-1}$. Select the drop down box to see the transitions over different numbers of. We can clearly see the graph flatten out into large waves. The waves correspond to the larger eigenvalues. Eventually we are left with only $\\omega_0$."
   ]
  },
  {
   "cell_type": "code",
   "execution_count": 12,
   "metadata": {
    "colab": {
     "base_uri": "https://localhost:8080/",
     "height": 327,
     "referenced_widgets": [
      "2925e6c4d89f419e840171921444b66c",
      "c75680dbbddc40dc8896cfc3db530e54",
      "300f4b471ca14af5817725bca26720df",
      "c557292de47b4eef999ae69638e7bb2e",
      "aee088d92d8149ada60b176dac0fc276",
      "cff0ff0882fc4ab4af932f54d0d1eb3f",
      "fdb6749b6b0441c08731bb3639bac3a9"
     ]
    },
    "id": "3RQxbBlGMpB4",
    "outputId": "36d87a58-3a1f-4af2-dacb-2834c61aaf8f"
   },
   "outputs": [
    {
     "data": {
      "application/vnd.jupyter.widget-view+json": {
       "model_id": "1908f22463474992ae4fe893a709acef",
       "version_major": 2,
       "version_minor": 0
      },
      "text/plain": [
       "interactive(children=(Dropdown(description='n', options=(0, 1, 2, 3, 4, 5, 6, 7, 8, 9, 10, 11, 12, '∞'), value…"
      ]
     },
     "metadata": {},
     "output_type": "display_data"
    },
    {
     "data": {
      "image/png": "[encoded data removed]",
      "text/plain": [
       "<Figure size 432x288 with 2 Axes>"
      ]
     },
     "metadata": {
      "needs_background": "light"
     },
     "output_type": "display_data"
    }
   ],
   "source": [
    "@interact\n",
    "def probabilities_after_n_turns(n=[i for i in range(13)] + ['∞']):\n",
    "  if n == '∞':\n",
    "    pyplot.imshow(np.tile(v_inf, 42), 'inferno', vmin=0.0, vmax=0.1)\n",
    "  else:\n",
    "    pyplot.imshow(transition_n(n), 'inferno', vmin=0.0, vmax=0.1)\n",
    "  pyplot.colorbar()\n",
    "  pyplot.xlabel(\"From (i)\")\n",
    "  pyplot.ylabel(\"To (j)\")\n",
    "  pyplot.title(f\"Probabilities over {n} turn{'' if n == 1 else 's'}.\")\n"
   ]
  },
  {
   "cell_type": "markdown",
   "metadata": {
    "id": "xBvTrMWs9Rd4"
   },
   "source": [
    "----\n",
    "\n",
    "# Average time to reach a space"
   ]
  },
  {
   "cell_type": "markdown",
   "metadata": {
    "id": "WAvv-P3f4fw4"
   },
   "source": [
    "Another question we may wonder about is how long does it take, on average, to get from one space to another.\n",
    "\n",
    "We will define $A_{i,j}$ as the average number of turns to reach state $i$ from state $j$. \n",
    "\n",
    "Then we find that for $i \\neq j$, $$A_{i,j} = 1 + \\sum_{k=0}^{41} A_{i,k}T_{k,j} = 1 + (AT)_{i,j}$$\n",
    "\n",
    "with $A_{i,i} = 0$. \n",
    "\n",
    "Then for $i \\neq j$, we see that:\n",
    "\n",
    "$\\begin{align}\n",
    "A_{i, j} - (AT)_{i, j} &= 1\\\\\n",
    "(AI)_{i, j} - (AT)_{i, j} &= 1\\\\\n",
    "(A(I-T))_{i, j} &= 1\n",
    "\\end{align}$\n",
    "\n",
    "Now we will define $A^{\\neg i}$ and $T^{\\neg i}$ to be $A$ and $T$ without row and column $i$. Then that means that \n",
    "\n",
    "$\\begin{align}\n",
    "A^{\\neg i}(I-T^{\\neg i}) &= 1\\\\\n",
    "A^{\\neg i}(I-T^{\\neg i}) &= 1\\\\\n",
    "A^{\\neg i} &= 1(I-T^{\\neg i})^{-1}\\\\\n",
    "A^{\\neg i}_{i,:} &= \\sum_{k=0}^{41}(I-T^{\\neg i})^{-1}_{k,:}\\\\\n",
    "\\end{align}$\n",
    "\n"
   ]
  },
  {
   "cell_type": "code",
   "execution_count": 13,
   "metadata": {
    "id": "kEQThkvfGjih"
   },
   "outputs": [],
   "source": [
    "A = np.zeros((42, 42))\n",
    "for i in range(42):\n",
    "  # mask is ignoring the ith entry\n",
    "  mask1 = np.arange(42) != i\n",
    "  mask2 = np.logical_and.outer(mask1, mask1)\n",
    "  A[i, mask1] = np.linalg.inv(np.eye(41) - T[mask2].reshape(41,41)).sum(axis=0)"
   ]
  },
  {
   "cell_type": "markdown",
   "metadata": {
    "id": "b27cN9F9aIX1"
   },
   "source": [
    "Below is a tool to calculate the average number of turns required to go from space $a$ to space $b$. Use the drop down boxes to select the start and end space."
   ]
  },
  {
   "cell_type": "code",
   "execution_count": 14,
   "metadata": {
    "colab": {
     "base_uri": "https://localhost:8080/",
     "height": 98,
     "referenced_widgets": [
      "79b6e98dbc414bf9aca358c84afc0462",
      "5cfb55ccec9e4f92ae1dbd04140f83c6",
      "25fb644045794e708eae04e13c77ad52",
      "84f3d03241124f24a3b0d96303994d12",
      "5de6f442a4b44c9ebc02fafbb416f261",
      "b74d6c4c7ac742abaa077c6e4052f635",
      "753cddebf6b94bf1b92f3da421a69a30",
      "56547bc9497946f1b147cb0fbf70016c",
      "3e2a66d9a9b841078714bf3039b80705",
      "435dec0b7b79418091090fdb47e8eb28"
     ]
    },
    "id": "CEJ8qgk6QM8v",
    "outputId": "b28c155c-36b8-4c92-a7cb-1ee6dfcd84ef"
   },
   "outputs": [
    {
     "data": {
      "application/vnd.jupyter.widget-view+json": {
       "model_id": "edf14ad2adfd4a718fe32f68ad809577",
       "version_major": 2,
       "version_minor": 0
      },
      "text/plain": [
       "interactive(children=(Dropdown(description='a', options=(' 0. Go', ' 1. Mediterranean Avenue', ' 2. Community …"
      ]
     },
     "metadata": {},
     "output_type": "display_data"
    }
   ],
   "source": [
    "@interact\n",
    "def average_from_a_to_b(a=helper.SPACES, b=helper.SPACES):\n",
    "  print(f\"On average it takes {A[helper.SPACES.index(b), helper.SPACES.index(a)]:.1f} turns to get from {a[4:]} ({a}) to {b[4:]} ({b})\")"
   ]
  },
  {
   "cell_type": "code",
   "execution_count": 15,
   "metadata": {
    "colab": {
     "base_uri": "https://localhost:8080/",
     "height": 295
    },
    "id": "3TuYTuDiMta_",
    "outputId": "2b16c8fb-ca4e-4622-d205-b7a1d1ca8404"
   },
   "outputs": [
    {
     "data": {
      "image/png": "[encoded data removed]",
      "text/plain": [
       "<Figure size 432x288 with 2 Axes>"
      ]
     },
     "metadata": {
      "needs_background": "light"
     },
     "output_type": "display_data"
    }
   ],
   "source": [
    "helper.plot_average_travel_time(A)"
   ]
  },
  {
   "cell_type": "markdown",
   "metadata": {
    "id": "e4yBtVXa5Mqk"
   },
   "source": [
    "----\n",
    "\n",
    "# Checking each step"
   ]
  },
  {
   "cell_type": "markdown",
   "metadata": {
    "id": "xYmX7hzaia8w"
   },
   "source": [
    "Many algebraic manipulations were made. To ensure that we did not make a mistake, we can use asset statements to check our work. If there is a mistake, the asserts will throw an error.\n",
    "\n",
    "To do so, we will estimate $v^{(\\infty)} \\approx v^{(100,000)}$:"
   ]
  },
  {
   "cell_type": "code",
   "execution_count": 16,
   "metadata": {
    "id": "RcRqeOQZipVk"
   },
   "outputs": [],
   "source": [
    "temp = T\n",
    "for i in range(100_000): temp = T @ temp\n",
    "temp = temp @ state(0)"
   ]
  },
  {
   "cell_type": "markdown",
   "metadata": {
    "id": "20-M4LPBi1oo"
   },
   "source": [
    "We know that $v^{(100,000)} = (\\Lambda^{100,000} \\cdot \\Omega)\\Omega^{-1}v^{(0)}$:"
   ]
  },
  {
   "cell_type": "code",
   "execution_count": 17,
   "metadata": {
    "id": "LIRY2sGmjMgd"
   },
   "outputs": [],
   "source": [
    "assert np.allclose((Lambda**100_000 * Omega) @ Omega_inv @ state(0), temp)"
   ]
  },
  {
   "cell_type": "markdown",
   "metadata": {
    "id": "n13crSbijSLx"
   },
   "source": [
    "We also should check that \n",
    "$$\n",
    "\\lim_{n \\to \\infty} \\Lambda^n = \n",
    "\\begin{bmatrix}\n",
    "1\\\\\n",
    "0\\\\\n",
    "0\\\\\n",
    "\\vdots\\\\\n",
    "0\n",
    "\\end{bmatrix}\n",
    "$$"
   ]
  },
  {
   "cell_type": "code",
   "execution_count": 18,
   "metadata": {
    "id": "lb-P8f_Djmi_"
   },
   "outputs": [],
   "source": [
    "Lambda_inf = np.array([1 if i == 0 else 0 for i in range(42)])\n",
    "assert np.allclose(Lambda_inf, Lambda**100_000)\n",
    "assert np.allclose((Lambda_inf * Omega) @ Omega_inv @ state(0), temp)"
   ]
  },
  {
   "cell_type": "markdown",
   "metadata": {
    "id": "hHV6QQnPjyW3"
   },
   "source": [
    "Then we found that $v^{(\\infty)} = \\omega_0 (\\Omega^{-1})_0^T v^{(0)}$"
   ]
  },
  {
   "cell_type": "code",
   "execution_count": 19,
   "metadata": {
    "id": "mhNAPwo4kkub"
   },
   "outputs": [],
   "source": [
    "assert np.allclose(np.outer(Omega[:,0], Omega_inv[0,:]) @ state(0), temp)\n",
    "assert np.allclose(np.outer(omega0, Omega_inv[0,:]) @ state(0), temp)"
   ]
  },
  {
   "cell_type": "markdown",
   "metadata": {
    "id": "bGuf8oYcjyN2"
   },
   "source": [
    "And finally $v^{(\\infty)} = c\\omega_0$"
   ]
  },
  {
   "cell_type": "code",
   "execution_count": 20,
   "metadata": {
    "id": "ANsw3rA42m-H"
   },
   "outputs": [],
   "source": [
    "assert np.allclose((omega0 * c)[:,None], temp)\n",
    "assert np.allclose(v_inf, temp)"
   ]
  },
  {
   "cell_type": "markdown",
   "metadata": {
    "id": "X6vYafu8atEW"
   },
   "source": [
    "Now checking the average distance between spaces.\n",
    "\n",
    "We will confirm that \n",
    "\n",
    "$A_{i,j} = 1 + \\sum_{k=0}^{41} A_{i,k} T_{k,j}$\n",
    "\n",
    "and\n",
    "\n",
    "$A_{i,j} = 1 + (AT)_{i,j}$ (when $i \\neq j$)"
   ]
  },
  {
   "cell_type": "code",
   "execution_count": 21,
   "metadata": {
    "id": "GIJj9a7TbHTZ"
   },
   "outputs": [],
   "source": [
    "for i in range(42):\n",
    "  for j in range(42):\n",
    "    if i == j:\n",
    "      assert A[i,j] == 0\n",
    "    else:\n",
    "      assert np.isclose(A[i,j], 1 + sum([A[i,k] * T[k,j] for k in range(42)]))\n",
    "      assert np.isclose(A[i,j], 1 + (A @ T)[i,j])"
   ]
  }
 ],
 "metadata": {
  "colab": {
   "collapsed_sections": [
    "e4yBtVXa5Mqk"
   ],
   "name": "Monopoly.ipynb",
   "provenance": []
  },
  "kernelspec": {
   "display_name": "Python 3 (ipykernel)",
   "language": "python",
   "name": "python3"
  },
  "language_info": {
   "codemirror_mode": {
    "name": "ipython",
    "version": 3
   },
   "file_extension": ".py",
   "mimetype": "text/x-python",
   "name": "python",
   "nbconvert_exporter": "python",
   "pygments_lexer": "ipython3",
   "version": "3.9.1"
  },
  "widgets": {
   "application/vnd.jupyter.widget-state+json": {
    "0c15ca06aed3426f8602dd01ba74b0e7": {
     "model_module": "@jupyter-widgets/base",
     "model_module_version": "1.2.0",
     "model_name": "LayoutModel",
     "state": {
      "_model_module": "@jupyter-widgets/base",
      "_model_module_version": "1.2.0",
      "_model_name": "LayoutModel",
      "_view_count": null,
      "_view_module": "@jupyter-widgets/base",
      "_view_module_version": "1.2.0",
      "_view_name": "LayoutView",
      "align_content": null,
      "align_items": null,
      "align_self": null,
      "border": null,
      "bottom": null,
      "display": null,
      "flex": null,
      "flex_flow": null,
      "grid_area": null,
      "grid_auto_columns": null,
      "grid_auto_flow": null,
      "grid_auto_rows": null,
      "grid_column": null,
      "grid_gap": null,
      "grid_row": null,
      "grid_template_areas": null,
      "grid_template_columns": null,
      "grid_template_rows": null,
      "height": null,
      "justify_content": null,
      "justify_items": null,
      "left": null,
      "margin": null,
      "max_height": null,
      "max_width": null,
      "min_height": null,
      "min_width": null,
      "object_fit": null,
      "object_position": null,
      "order": null,
      "overflow": null,
      "overflow_x": null,
      "overflow_y": null,
      "padding": null,
      "right": null,
      "top": null,
      "visibility": null,
      "width": null
     }
    },
    "1344f925f81144cb957176c68c210398": {
     "model_module": "@jupyter-widgets/base",
     "model_module_version": "1.2.0",
     "model_name": "LayoutModel",
     "state": {
      "_model_module": "@jupyter-widgets/base",
      "_model_module_version": "1.2.0",
      "_model_name": "LayoutModel",
      "_view_count": null,
      "_view_module": "@jupyter-widgets/base",
      "_view_module_version": "1.2.0",
      "_view_name": "LayoutView",
      "align_content": null,
      "align_items": null,
      "align_self": null,
      "border": null,
      "bottom": null,
      "display": null,
      "flex": null,
      "flex_flow": null,
      "grid_area": null,
      "grid_auto_columns": null,
      "grid_auto_flow": null,
      "grid_auto_rows": null,
      "grid_column": null,
      "grid_gap": null,
      "grid_row": null,
      "grid_template_areas": null,
      "grid_template_columns": null,
      "grid_template_rows": null,
      "height": null,
      "justify_content": null,
      "justify_items": null,
      "left": null,
      "margin": null,
      "max_height": null,
      "max_width": null,
      "min_height": null,
      "min_width": null,
      "object_fit": null,
      "object_position": null,
      "order": null,
      "overflow": null,
      "overflow_x": null,
      "overflow_y": null,
      "padding": null,
      "right": null,
      "top": null,
      "visibility": null,
      "width": null
     }
    },
    "221ed907d0714f1cb7a92dd0a9b98335": {
     "model_module": "@jupyter-widgets/controls",
     "model_module_version": "1.5.0",
     "model_name": "IntSliderModel",
     "state": {
      "_dom_classes": [],
      "_model_module": "@jupyter-widgets/controls",
      "_model_module_version": "1.5.0",
      "_model_name": "IntSliderModel",
      "_view_count": null,
      "_view_module": "@jupyter-widgets/controls",
      "_view_module_version": "1.5.0",
      "_view_name": "IntSliderView",
      "continuous_update": true,
      "description": "n",
      "description_tooltip": null,
      "disabled": false,
      "layout": "IPY_MODEL_0c15ca06aed3426f8602dd01ba74b0e7",
      "max": 10,
      "min": 0,
      "orientation": "horizontal",
      "readout": true,
      "readout_format": "d",
      "step": 1,
      "style": "IPY_MODEL_69778e6912ea4fdfa3916aa814b2a80a",
      "value": 5
     }
    },
    "258ad192a5624ef2beaa5cf784febf3d": {
     "model_module": "@jupyter-widgets/base",
     "model_module_version": "1.2.0",
     "model_name": "LayoutModel",
     "state": {
      "_model_module": "@jupyter-widgets/base",
      "_model_module_version": "1.2.0",
      "_model_name": "LayoutModel",
      "_view_count": null,
      "_view_module": "@jupyter-widgets/base",
      "_view_module_version": "1.2.0",
      "_view_name": "LayoutView",
      "align_content": null,
      "align_items": null,
      "align_self": null,
      "border": null,
      "bottom": null,
      "display": null,
      "flex": null,
      "flex_flow": null,
      "grid_area": null,
      "grid_auto_columns": null,
      "grid_auto_flow": null,
      "grid_auto_rows": null,
      "grid_column": null,
      "grid_gap": null,
      "grid_row": null,
      "grid_template_areas": null,
      "grid_template_columns": null,
      "grid_template_rows": null,
      "height": null,
      "justify_content": null,
      "justify_items": null,
      "left": null,
      "margin": null,
      "max_height": null,
      "max_width": null,
      "min_height": null,
      "min_width": null,
      "object_fit": null,
      "object_position": null,
      "order": null,
      "overflow": null,
      "overflow_x": null,
      "overflow_y": null,
      "padding": null,
      "right": null,
      "top": null,
      "visibility": null,
      "width": null
     }
    },
    "25fb644045794e708eae04e13c77ad52": {
     "model_module": "@jupyter-widgets/controls",
     "model_module_version": "1.5.0",
     "model_name": "DropdownModel",
     "state": {
      "_dom_classes": [],
      "_model_module": "@jupyter-widgets/controls",
      "_model_module_version": "1.5.0",
      "_model_name": "DropdownModel",
      "_options_labels": [
       " 0. Go",
       " 1. Mediterranean Avenue",
       " 2. Community Chest",
       " 3. Baltic Avenue",
       " 4. Income Tax",
       " 5. Reading Railroad",
       " 6. Oriental Avenue",
       " 7. Chance",
       " 8. Vermont Avenue",
       " 9. Connecticut Avenue",
       "10. Just Visiting",
       "11. St. Charles Place",
       "12. Electric Company",
       "13. States Avenue",
       "14. Virginia Avenue",
       "15. Pennsylvania Railroad",
       "16. St. James Place",
       "17. Community Chest",
       "18. Tennessee Avenue",
       "19. New York Avenue",
       "20. Free Parking",
       "21. Kentucky Avenue",
       "22. Chance",
       "23. Indiana Avenue",
       "24. Illinois Avenue",
       "25. B&O Railroad",
       "26. Atlantic Avenue",
       "27. Ventnor Avenue",
       "28. Water Works",
       "29. Marvin Gardens",
       "30. Go to Jail",
       "31. Pacific Avenue",
       "32. North Carolina Avenue",
       "33. Community Chest",
       "34. Pennsylvania Avenue",
       "35. Short Line",
       "36. Chance",
       "37. Park Place",
       "38. Luxury Tax",
       "39. Boardwalk",
       "40. Jail",
       "41. Jail"
      ],
      "_view_count": null,
      "_view_module": "@jupyter-widgets/controls",
      "_view_module_version": "1.5.0",
      "_view_name": "DropdownView",
      "description": "a",
      "description_tooltip": null,
      "disabled": false,
      "index": 0,
      "layout": "IPY_MODEL_753cddebf6b94bf1b92f3da421a69a30",
      "style": "IPY_MODEL_b74d6c4c7ac742abaa077c6e4052f635"
     }
    },
    "2925e6c4d89f419e840171921444b66c": {
     "model_module": "@jupyter-widgets/controls",
     "model_module_version": "1.5.0",
     "model_name": "VBoxModel",
     "state": {
      "_dom_classes": [
       "widget-interact"
      ],
      "_model_module": "@jupyter-widgets/controls",
      "_model_module_version": "1.5.0",
      "_model_name": "VBoxModel",
      "_view_count": null,
      "_view_module": "@jupyter-widgets/controls",
      "_view_module_version": "1.5.0",
      "_view_name": "VBoxView",
      "box_style": "",
      "children": [
       "IPY_MODEL_300f4b471ca14af5817725bca26720df",
       "IPY_MODEL_c557292de47b4eef999ae69638e7bb2e"
      ],
      "layout": "IPY_MODEL_c75680dbbddc40dc8896cfc3db530e54"
     }
    },
    "300f4b471ca14af5817725bca26720df": {
     "model_module": "@jupyter-widgets/controls",
     "model_module_version": "1.5.0",
     "model_name": "DropdownModel",
     "state": {
      "_dom_classes": [],
      "_model_module": "@jupyter-widgets/controls",
      "_model_module_version": "1.5.0",
      "_model_name": "DropdownModel",
      "_options_labels": [
       "0",
       "1",
       "2",
       "3",
       "4",
       "5",
       "6",
       "7",
       "8",
       "9",
       "10",
       "11",
       "12",
       "∞"
      ],
      "_view_count": null,
      "_view_module": "@jupyter-widgets/controls",
      "_view_module_version": "1.5.0",
      "_view_name": "DropdownView",
      "description": "n",
      "description_tooltip": null,
      "disabled": false,
      "index": 3,
      "layout": "IPY_MODEL_cff0ff0882fc4ab4af932f54d0d1eb3f",
      "style": "IPY_MODEL_aee088d92d8149ada60b176dac0fc276"
     }
    },
    "3ba2790bb4d8469f8800fda853efadb2": {
     "model_module": "@jupyter-widgets/output",
     "model_module_version": "1.0.0",
     "model_name": "OutputModel",
     "state": {
      "_dom_classes": [],
      "_model_module": "@jupyter-widgets/output",
      "_model_module_version": "1.0.0",
      "_model_name": "OutputModel",
      "_view_count": null,
      "_view_module": "@jupyter-widgets/output",
      "_view_module_version": "1.0.0",
      "_view_name": "OutputView",
      "layout": "IPY_MODEL_258ad192a5624ef2beaa5cf784febf3d",
      "msg_id": "",
      "outputs": [
       {
        "name": "stdout",
        "output_type": "stream",
        "text": [
         " 0. Go                    :  1.17%\n",
         " 1. Mediterranean Avenue  :  0.00%\n",
         " 2. Community Chest       :  0.00%\n",
         " 3. Baltic Avenue         :  5.56%\n",
         " 4. Income Tax            :  5.56%\n",
         " 5. Reading Railroad      : 13.44%\n",
         " 6. Oriental Avenue       : 11.27%\n",
         " 7. Chance                :  7.50%\n",
         " 8. Vermont Avenue        : 11.58%\n",
         " 9. Connecticut Avenue    : 12.05%\n",
         "10. Just Visiting         :  6.34%\n",
         "11. St. Charles Place     :  7.92%\n",
         "12. Electric Company      :  2.05%\n",
         "13. States Avenue         :  1.47%\n",
         "14. Virginia Avenue       :  0.99%\n",
         "15. Pennsylvania Railroad :  1.50%\n",
         "16. St. James Place       :  1.02%\n",
         "17. Community Chest       :  1.23%\n",
         "18. Tennessee Avenue      :  0.89%\n",
         "19. New York Avenue       :  1.11%\n",
         "20. Free Parking          :  0.60%\n",
         "21. Kentucky Avenue       :  0.66%\n",
         "22. Chance                :  0.13%\n",
         "23. Indiana Avenue        :  0.34%\n",
         "24. Illinois Avenue       :  1.20%\n",
         "25. B&O Railroad          :  0.15%\n",
         "26. Atlantic Avenue       :  0.09%\n",
         "27. Ventnor Avenue        :  0.12%\n",
         "28. Water Works           :  0.06%\n",
         "29. Marvin Gardens        :  0.08%\n",
         "30. Go to Jail            :  0.00%\n",
         "31. Pacific Avenue        :  0.04%\n",
         "32. North Carolina Avenue :  0.02%\n",
         "33. Community Chest       :  0.02%\n",
         "34. Pennsylvania Avenue   :  0.00%\n",
         "35. Short Line            :  0.00%\n",
         "36. Chance                :  0.00%\n",
         "37. Park Place            :  0.00%\n",
         "38. Luxury Tax            :  0.00%\n",
         "39. Boardwalk             :  2.18%\n",
         "40. Jail                  :  1.67%\n",
         "41. Jail                  :  0.00%\n"
        ]
       }
      ]
     }
    },
    "3e2a66d9a9b841078714bf3039b80705": {
     "model_module": "@jupyter-widgets/base",
     "model_module_version": "1.2.0",
     "model_name": "LayoutModel",
     "state": {
      "_model_module": "@jupyter-widgets/base",
      "_model_module_version": "1.2.0",
      "_model_name": "LayoutModel",
      "_view_count": null,
      "_view_module": "@jupyter-widgets/base",
      "_view_module_version": "1.2.0",
      "_view_name": "LayoutView",
      "align_content": null,
      "align_items": null,
      "align_self": null,
      "border": null,
      "bottom": null,
      "display": null,
      "flex": null,
      "flex_flow": null,
      "grid_area": null,
      "grid_auto_columns": null,
      "grid_auto_flow": null,
      "grid_auto_rows": null,
      "grid_column": null,
      "grid_gap": null,
      "grid_row": null,
      "grid_template_areas": null,
      "grid_template_columns": null,
      "grid_template_rows": null,
      "height": null,
      "justify_content": null,
      "justify_items": null,
      "left": null,
      "margin": null,
      "max_height": null,
      "max_width": null,
      "min_height": null,
      "min_width": null,
      "object_fit": null,
      "object_position": null,
      "order": null,
      "overflow": null,
      "overflow_x": null,
      "overflow_y": null,
      "padding": null,
      "right": null,
      "top": null,
      "visibility": null,
      "width": null
     }
    },
    "435dec0b7b79418091090fdb47e8eb28": {
     "model_module": "@jupyter-widgets/base",
     "model_module_version": "1.2.0",
     "model_name": "LayoutModel",
     "state": {
      "_model_module": "@jupyter-widgets/base",
      "_model_module_version": "1.2.0",
      "_model_name": "LayoutModel",
      "_view_count": null,
      "_view_module": "@jupyter-widgets/base",
      "_view_module_version": "1.2.0",
      "_view_name": "LayoutView",
      "align_content": null,
      "align_items": null,
      "align_self": null,
      "border": null,
      "bottom": null,
      "display": null,
      "flex": null,
      "flex_flow": null,
      "grid_area": null,
      "grid_auto_columns": null,
      "grid_auto_flow": null,
      "grid_auto_rows": null,
      "grid_column": null,
      "grid_gap": null,
      "grid_row": null,
      "grid_template_areas": null,
      "grid_template_columns": null,
      "grid_template_rows": null,
      "height": null,
      "justify_content": null,
      "justify_items": null,
      "left": null,
      "margin": null,
      "max_height": null,
      "max_width": null,
      "min_height": null,
      "min_width": null,
      "object_fit": null,
      "object_position": null,
      "order": null,
      "overflow": null,
      "overflow_x": null,
      "overflow_y": null,
      "padding": null,
      "right": null,
      "top": null,
      "visibility": null,
      "width": null
     }
    },
    "4b126271ebb846e2842b105c43edf92b": {
     "model_module": "@jupyter-widgets/base",
     "model_module_version": "1.2.0",
     "model_name": "LayoutModel",
     "state": {
      "_model_module": "@jupyter-widgets/base",
      "_model_module_version": "1.2.0",
      "_model_name": "LayoutModel",
      "_view_count": null,
      "_view_module": "@jupyter-widgets/base",
      "_view_module_version": "1.2.0",
      "_view_name": "LayoutView",
      "align_content": null,
      "align_items": null,
      "align_self": null,
      "border": null,
      "bottom": null,
      "display": null,
      "flex": null,
      "flex_flow": null,
      "grid_area": null,
      "grid_auto_columns": null,
      "grid_auto_flow": null,
      "grid_auto_rows": null,
      "grid_column": null,
      "grid_gap": null,
      "grid_row": null,
      "grid_template_areas": null,
      "grid_template_columns": null,
      "grid_template_rows": null,
      "height": null,
      "justify_content": null,
      "justify_items": null,
      "left": null,
      "margin": null,
      "max_height": null,
      "max_width": null,
      "min_height": null,
      "min_width": null,
      "object_fit": null,
      "object_position": null,
      "order": null,
      "overflow": null,
      "overflow_x": null,
      "overflow_y": null,
      "padding": null,
      "right": null,
      "top": null,
      "visibility": null,
      "width": null
     }
    },
    "56547bc9497946f1b147cb0fbf70016c": {
     "model_module": "@jupyter-widgets/controls",
     "model_module_version": "1.5.0",
     "model_name": "DescriptionStyleModel",
     "state": {
      "_model_module": "@jupyter-widgets/controls",
      "_model_module_version": "1.5.0",
      "_model_name": "DescriptionStyleModel",
      "_view_count": null,
      "_view_module": "@jupyter-widgets/base",
      "_view_module_version": "1.2.0",
      "_view_name": "StyleView",
      "description_width": ""
     }
    },
    "5cfb55ccec9e4f92ae1dbd04140f83c6": {
     "model_module": "@jupyter-widgets/base",
     "model_module_version": "1.2.0",
     "model_name": "LayoutModel",
     "state": {
      "_model_module": "@jupyter-widgets/base",
      "_model_module_version": "1.2.0",
      "_model_name": "LayoutModel",
      "_view_count": null,
      "_view_module": "@jupyter-widgets/base",
      "_view_module_version": "1.2.0",
      "_view_name": "LayoutView",
      "align_content": null,
      "align_items": null,
      "align_self": null,
      "border": null,
      "bottom": null,
      "display": null,
      "flex": null,
      "flex_flow": null,
      "grid_area": null,
      "grid_auto_columns": null,
      "grid_auto_flow": null,
      "grid_auto_rows": null,
      "grid_column": null,
      "grid_gap": null,
      "grid_row": null,
      "grid_template_areas": null,
      "grid_template_columns": null,
      "grid_template_rows": null,
      "height": null,
      "justify_content": null,
      "justify_items": null,
      "left": null,
      "margin": null,
      "max_height": null,
      "max_width": null,
      "min_height": null,
      "min_width": null,
      "object_fit": null,
      "object_position": null,
      "order": null,
      "overflow": null,
      "overflow_x": null,
      "overflow_y": null,
      "padding": null,
      "right": null,
      "top": null,
      "visibility": null,
      "width": null
     }
    },
    "5de6f442a4b44c9ebc02fafbb416f261": {
     "model_module": "@jupyter-widgets/output",
     "model_module_version": "1.0.0",
     "model_name": "OutputModel",
     "state": {
      "_dom_classes": [],
      "_model_module": "@jupyter-widgets/output",
      "_model_module_version": "1.0.0",
      "_model_name": "OutputModel",
      "_view_count": null,
      "_view_module": "@jupyter-widgets/output",
      "_view_module_version": "1.0.0",
      "_view_name": "OutputView",
      "layout": "IPY_MODEL_435dec0b7b79418091090fdb47e8eb28",
      "msg_id": "",
      "outputs": [
       {
        "name": "stdout",
        "output_type": "stream",
        "text": [
         "On average it takes 39.6 turns to get from Go ( 0. Go) to Electric Company (12. Electric Company)\n"
        ]
       }
      ]
     }
    },
    "65b61815b8574438a6f3f86331a64c1b": {
     "model_module": "@jupyter-widgets/controls",
     "model_module_version": "1.5.0",
     "model_name": "VBoxModel",
     "state": {
      "_dom_classes": [
       "widget-interact"
      ],
      "_model_module": "@jupyter-widgets/controls",
      "_model_module_version": "1.5.0",
      "_model_name": "VBoxModel",
      "_view_count": null,
      "_view_module": "@jupyter-widgets/controls",
      "_view_module_version": "1.5.0",
      "_view_name": "VBoxView",
      "box_style": "",
      "children": [
       "IPY_MODEL_9054758472fd4270a71c19cb0ce5bef9",
       "IPY_MODEL_3ba2790bb4d8469f8800fda853efadb2"
      ],
      "layout": "IPY_MODEL_4b126271ebb846e2842b105c43edf92b"
     }
    },
    "69778e6912ea4fdfa3916aa814b2a80a": {
     "model_module": "@jupyter-widgets/controls",
     "model_module_version": "1.5.0",
     "model_name": "SliderStyleModel",
     "state": {
      "_model_module": "@jupyter-widgets/controls",
      "_model_module_version": "1.5.0",
      "_model_name": "SliderStyleModel",
      "_view_count": null,
      "_view_module": "@jupyter-widgets/base",
      "_view_module_version": "1.2.0",
      "_view_name": "StyleView",
      "description_width": "",
      "handle_color": null
     }
    },
    "7433fd74d57545b5bf631ef52e8e8300": {
     "model_module": "@jupyter-widgets/controls",
     "model_module_version": "1.5.0",
     "model_name": "VBoxModel",
     "state": {
      "_dom_classes": [
       "widget-interact"
      ],
      "_model_module": "@jupyter-widgets/controls",
      "_model_module_version": "1.5.0",
      "_model_name": "VBoxModel",
      "_view_count": null,
      "_view_module": "@jupyter-widgets/controls",
      "_view_module_version": "1.5.0",
      "_view_name": "VBoxView",
      "box_style": "",
      "children": [
       "IPY_MODEL_95588b2b66b74bb0af264f122bf4ee1a",
       "IPY_MODEL_221ed907d0714f1cb7a92dd0a9b98335",
       "IPY_MODEL_fb732e44554f4d17872174e7b9f133e4"
      ],
      "layout": "IPY_MODEL_fdb8b6c92fbb464f8388135cd0a7d8d1"
     }
    },
    "753cddebf6b94bf1b92f3da421a69a30": {
     "model_module": "@jupyter-widgets/base",
     "model_module_version": "1.2.0",
     "model_name": "LayoutModel",
     "state": {
      "_model_module": "@jupyter-widgets/base",
      "_model_module_version": "1.2.0",
      "_model_name": "LayoutModel",
      "_view_count": null,
      "_view_module": "@jupyter-widgets/base",
      "_view_module_version": "1.2.0",
      "_view_name": "LayoutView",
      "align_content": null,
      "align_items": null,
      "align_self": null,
      "border": null,
      "bottom": null,
      "display": null,
      "flex": null,
      "flex_flow": null,
      "grid_area": null,
      "grid_auto_columns": null,
      "grid_auto_flow": null,
      "grid_auto_rows": null,
      "grid_column": null,
      "grid_gap": null,
      "grid_row": null,
      "grid_template_areas": null,
      "grid_template_columns": null,
      "grid_template_rows": null,
      "height": null,
      "justify_content": null,
      "justify_items": null,
      "left": null,
      "margin": null,
      "max_height": null,
      "max_width": null,
      "min_height": null,
      "min_width": null,
      "object_fit": null,
      "object_position": null,
      "order": null,
      "overflow": null,
      "overflow_x": null,
      "overflow_y": null,
      "padding": null,
      "right": null,
      "top": null,
      "visibility": null,
      "width": null
     }
    },
    "79b6e98dbc414bf9aca358c84afc0462": {
     "model_module": "@jupyter-widgets/controls",
     "model_module_version": "1.5.0",
     "model_name": "VBoxModel",
     "state": {
      "_dom_classes": [
       "widget-interact"
      ],
      "_model_module": "@jupyter-widgets/controls",
      "_model_module_version": "1.5.0",
      "_model_name": "VBoxModel",
      "_view_count": null,
      "_view_module": "@jupyter-widgets/controls",
      "_view_module_version": "1.5.0",
      "_view_name": "VBoxView",
      "box_style": "",
      "children": [
       "IPY_MODEL_25fb644045794e708eae04e13c77ad52",
       "IPY_MODEL_84f3d03241124f24a3b0d96303994d12",
       "IPY_MODEL_5de6f442a4b44c9ebc02fafbb416f261"
      ],
      "layout": "IPY_MODEL_5cfb55ccec9e4f92ae1dbd04140f83c6"
     }
    },
    "7d61f791ff474fa19973a6b5730abf42": {
     "model_module": "@jupyter-widgets/controls",
     "model_module_version": "1.5.0",
     "model_name": "DescriptionStyleModel",
     "state": {
      "_model_module": "@jupyter-widgets/controls",
      "_model_module_version": "1.5.0",
      "_model_name": "DescriptionStyleModel",
      "_view_count": null,
      "_view_module": "@jupyter-widgets/base",
      "_view_module_version": "1.2.0",
      "_view_name": "StyleView",
      "description_width": ""
     }
    },
    "84f3d03241124f24a3b0d96303994d12": {
     "model_module": "@jupyter-widgets/controls",
     "model_module_version": "1.5.0",
     "model_name": "DropdownModel",
     "state": {
      "_dom_classes": [],
      "_model_module": "@jupyter-widgets/controls",
      "_model_module_version": "1.5.0",
      "_model_name": "DropdownModel",
      "_options_labels": [
       " 0. Go",
       " 1. Mediterranean Avenue",
       " 2. Community Chest",
       " 3. Baltic Avenue",
       " 4. Income Tax",
       " 5. Reading Railroad",
       " 6. Oriental Avenue",
       " 7. Chance",
       " 8. Vermont Avenue",
       " 9. Connecticut Avenue",
       "10. Just Visiting",
       "11. St. Charles Place",
       "12. Electric Company",
       "13. States Avenue",
       "14. Virginia Avenue",
       "15. Pennsylvania Railroad",
       "16. St. James Place",
       "17. Community Chest",
       "18. Tennessee Avenue",
       "19. New York Avenue",
       "20. Free Parking",
       "21. Kentucky Avenue",
       "22. Chance",
       "23. Indiana Avenue",
       "24. Illinois Avenue",
       "25. B&O Railroad",
       "26. Atlantic Avenue",
       "27. Ventnor Avenue",
       "28. Water Works",
       "29. Marvin Gardens",
       "30. Go to Jail",
       "31. Pacific Avenue",
       "32. North Carolina Avenue",
       "33. Community Chest",
       "34. Pennsylvania Avenue",
       "35. Short Line",
       "36. Chance",
       "37. Park Place",
       "38. Luxury Tax",
       "39. Boardwalk",
       "40. Jail",
       "41. Jail"
      ],
      "_view_count": null,
      "_view_module": "@jupyter-widgets/controls",
      "_view_module_version": "1.5.0",
      "_view_name": "DropdownView",
      "description": "b",
      "description_tooltip": null,
      "disabled": false,
      "index": 12,
      "layout": "IPY_MODEL_3e2a66d9a9b841078714bf3039b80705",
      "style": "IPY_MODEL_56547bc9497946f1b147cb0fbf70016c"
     }
    },
    "9054758472fd4270a71c19cb0ce5bef9": {
     "model_module": "@jupyter-widgets/controls",
     "model_module_version": "1.5.0",
     "model_name": "DropdownModel",
     "state": {
      "_dom_classes": [],
      "_model_module": "@jupyter-widgets/controls",
      "_model_module_version": "1.5.0",
      "_model_name": "DropdownModel",
      "_options_labels": [
       " 0. Go",
       " 1. Mediterranean Avenue",
       " 2. Community Chest",
       " 3. Baltic Avenue",
       " 4. Income Tax",
       " 5. Reading Railroad",
       " 6. Oriental Avenue",
       " 7. Chance",
       " 8. Vermont Avenue",
       " 9. Connecticut Avenue",
       "10. Just Visiting",
       "11. St. Charles Place",
       "12. Electric Company",
       "13. States Avenue",
       "14. Virginia Avenue",
       "15. Pennsylvania Railroad",
       "16. St. James Place",
       "17. Community Chest",
       "18. Tennessee Avenue",
       "19. New York Avenue",
       "20. Free Parking",
       "21. Kentucky Avenue",
       "22. Chance",
       "23. Indiana Avenue",
       "24. Illinois Avenue",
       "25. B&O Railroad",
       "26. Atlantic Avenue",
       "27. Ventnor Avenue",
       "28. Water Works",
       "29. Marvin Gardens",
       "30. Go to Jail",
       "31. Pacific Avenue",
       "32. North Carolina Avenue",
       "33. Community Chest",
       "34. Pennsylvania Avenue",
       "35. Short Line",
       "36. Chance",
       "37. Park Place",
       "38. Luxury Tax",
       "39. Boardwalk",
       "40. Jail",
       "41. Jail"
      ],
      "_view_count": null,
      "_view_module": "@jupyter-widgets/controls",
      "_view_module_version": "1.5.0",
      "_view_name": "DropdownView",
      "description": "space",
      "description_tooltip": null,
      "disabled": false,
      "index": 0,
      "layout": "IPY_MODEL_dc2b6d721a0f4f45824951fa40f79566",
      "style": "IPY_MODEL_7d61f791ff474fa19973a6b5730abf42"
     }
    },
    "95588b2b66b74bb0af264f122bf4ee1a": {
     "model_module": "@jupyter-widgets/controls",
     "model_module_version": "1.5.0",
     "model_name": "DropdownModel",
     "state": {
      "_dom_classes": [],
      "_model_module": "@jupyter-widgets/controls",
      "_model_module_version": "1.5.0",
      "_model_name": "DropdownModel",
      "_options_labels": [
       " 0. Go",
       " 1. Mediterranean Avenue",
       " 2. Community Chest",
       " 3. Baltic Avenue",
       " 4. Income Tax",
       " 5. Reading Railroad",
       " 6. Oriental Avenue",
       " 7. Chance",
       " 8. Vermont Avenue",
       " 9. Connecticut Avenue",
       "10. Just Visiting",
       "11. St. Charles Place",
       "12. Electric Company",
       "13. States Avenue",
       "14. Virginia Avenue",
       "15. Pennsylvania Railroad",
       "16. St. James Place",
       "17. Community Chest",
       "18. Tennessee Avenue",
       "19. New York Avenue",
       "20. Free Parking",
       "21. Kentucky Avenue",
       "22. Chance",
       "23. Indiana Avenue",
       "24. Illinois Avenue",
       "25. B&O Railroad",
       "26. Atlantic Avenue",
       "27. Ventnor Avenue",
       "28. Water Works",
       "29. Marvin Gardens",
       "30. Go to Jail",
       "31. Pacific Avenue",
       "32. North Carolina Avenue",
       "33. Community Chest",
       "34. Pennsylvania Avenue",
       "35. Short Line",
       "36. Chance",
       "37. Park Place",
       "38. Luxury Tax",
       "39. Boardwalk",
       "40. Jail",
       "41. Jail"
      ],
      "_view_count": null,
      "_view_module": "@jupyter-widgets/controls",
      "_view_module_version": "1.5.0",
      "_view_name": "DropdownView",
      "description": "starting_state",
      "description_tooltip": null,
      "disabled": false,
      "index": 0,
      "layout": "IPY_MODEL_1344f925f81144cb957176c68c210398",
      "style": "IPY_MODEL_e852f5f705684f71a5463730be47e947"
     }
    },
    "9f872d14393a441eaf96e2d103a57b98": {
     "model_module": "@jupyter-widgets/base",
     "model_module_version": "1.2.0",
     "model_name": "LayoutModel",
     "state": {
      "_model_module": "@jupyter-widgets/base",
      "_model_module_version": "1.2.0",
      "_model_name": "LayoutModel",
      "_view_count": null,
      "_view_module": "@jupyter-widgets/base",
      "_view_module_version": "1.2.0",
      "_view_name": "LayoutView",
      "align_content": null,
      "align_items": null,
      "align_self": null,
      "border": null,
      "bottom": null,
      "display": null,
      "flex": null,
      "flex_flow": null,
      "grid_area": null,
      "grid_auto_columns": null,
      "grid_auto_flow": null,
      "grid_auto_rows": null,
      "grid_column": null,
      "grid_gap": null,
      "grid_row": null,
      "grid_template_areas": null,
      "grid_template_columns": null,
      "grid_template_rows": null,
      "height": null,
      "justify_content": null,
      "justify_items": null,
      "left": null,
      "margin": null,
      "max_height": null,
      "max_width": null,
      "min_height": null,
      "min_width": null,
      "object_fit": null,
      "object_position": null,
      "order": null,
      "overflow": null,
      "overflow_x": null,
      "overflow_y": null,
      "padding": null,
      "right": null,
      "top": null,
      "visibility": null,
      "width": null
     }
    },
    "aee088d92d8149ada60b176dac0fc276": {
     "model_module": "@jupyter-widgets/controls",
     "model_module_version": "1.5.0",
     "model_name": "DescriptionStyleModel",
     "state": {
      "_model_module": "@jupyter-widgets/controls",
      "_model_module_version": "1.5.0",
      "_model_name": "DescriptionStyleModel",
      "_view_count": null,
      "_view_module": "@jupyter-widgets/base",
      "_view_module_version": "1.2.0",
      "_view_name": "StyleView",
      "description_width": ""
     }
    },
    "b74d6c4c7ac742abaa077c6e4052f635": {
     "model_module": "@jupyter-widgets/controls",
     "model_module_version": "1.5.0",
     "model_name": "DescriptionStyleModel",
     "state": {
      "_model_module": "@jupyter-widgets/controls",
      "_model_module_version": "1.5.0",
      "_model_name": "DescriptionStyleModel",
      "_view_count": null,
      "_view_module": "@jupyter-widgets/base",
      "_view_module_version": "1.2.0",
      "_view_name": "StyleView",
      "description_width": ""
     }
    },
    "c557292de47b4eef999ae69638e7bb2e": {
     "model_module": "@jupyter-widgets/output",
     "model_module_version": "1.0.0",
     "model_name": "OutputModel",
     "state": {
      "_dom_classes": [],
      "_model_module": "@jupyter-widgets/output",
      "_model_module_version": "1.0.0",
      "_model_name": "OutputModel",
      "_view_count": null,
      "_view_module": "@jupyter-widgets/output",
      "_view_module_version": "1.0.0",
      "_view_name": "OutputView",
      "layout": "IPY_MODEL_fdb6749b6b0441c08731bb3639bac3a9",
      "msg_id": "",
      "outputs": [
       {
        "data": {
         "image/png": "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\n",
         "text/plain": "<Figure size 432x288 with 2 Axes>"
        },
        "metadata": {
         "needs_background": "light"
        },
        "output_type": "display_data"
       }
      ]
     }
    },
    "c75680dbbddc40dc8896cfc3db530e54": {
     "model_module": "@jupyter-widgets/base",
     "model_module_version": "1.2.0",
     "model_name": "LayoutModel",
     "state": {
      "_model_module": "@jupyter-widgets/base",
      "_model_module_version": "1.2.0",
      "_model_name": "LayoutModel",
      "_view_count": null,
      "_view_module": "@jupyter-widgets/base",
      "_view_module_version": "1.2.0",
      "_view_name": "LayoutView",
      "align_content": null,
      "align_items": null,
      "align_self": null,
      "border": null,
      "bottom": null,
      "display": null,
      "flex": null,
      "flex_flow": null,
      "grid_area": null,
      "grid_auto_columns": null,
      "grid_auto_flow": null,
      "grid_auto_rows": null,
      "grid_column": null,
      "grid_gap": null,
      "grid_row": null,
      "grid_template_areas": null,
      "grid_template_columns": null,
      "grid_template_rows": null,
      "height": null,
      "justify_content": null,
      "justify_items": null,
      "left": null,
      "margin": null,
      "max_height": null,
      "max_width": null,
      "min_height": null,
      "min_width": null,
      "object_fit": null,
      "object_position": null,
      "order": null,
      "overflow": null,
      "overflow_x": null,
      "overflow_y": null,
      "padding": null,
      "right": null,
      "top": null,
      "visibility": null,
      "width": null
     }
    },
    "cff0ff0882fc4ab4af932f54d0d1eb3f": {
     "model_module": "@jupyter-widgets/base",
     "model_module_version": "1.2.0",
     "model_name": "LayoutModel",
     "state": {
      "_model_module": "@jupyter-widgets/base",
      "_model_module_version": "1.2.0",
      "_model_name": "LayoutModel",
      "_view_count": null,
      "_view_module": "@jupyter-widgets/base",
      "_view_module_version": "1.2.0",
      "_view_name": "LayoutView",
      "align_content": null,
      "align_items": null,
      "align_self": null,
      "border": null,
      "bottom": null,
      "display": null,
      "flex": null,
      "flex_flow": null,
      "grid_area": null,
      "grid_auto_columns": null,
      "grid_auto_flow": null,
      "grid_auto_rows": null,
      "grid_column": null,
      "grid_gap": null,
      "grid_row": null,
      "grid_template_areas": null,
      "grid_template_columns": null,
      "grid_template_rows": null,
      "height": null,
      "justify_content": null,
      "justify_items": null,
      "left": null,
      "margin": null,
      "max_height": null,
      "max_width": null,
      "min_height": null,
      "min_width": null,
      "object_fit": null,
      "object_position": null,
      "order": null,
      "overflow": null,
      "overflow_x": null,
      "overflow_y": null,
      "padding": null,
      "right": null,
      "top": null,
      "visibility": null,
      "width": null
     }
    },
    "dc2b6d721a0f4f45824951fa40f79566": {
     "model_module": "@jupyter-widgets/base",
     "model_module_version": "1.2.0",
     "model_name": "LayoutModel",
     "state": {
      "_model_module": "@jupyter-widgets/base",
      "_model_module_version": "1.2.0",
      "_model_name": "LayoutModel",
      "_view_count": null,
      "_view_module": "@jupyter-widgets/base",
      "_view_module_version": "1.2.0",
      "_view_name": "LayoutView",
      "align_content": null,
      "align_items": null,
      "align_self": null,
      "border": null,
      "bottom": null,
      "display": null,
      "flex": null,
      "flex_flow": null,
      "grid_area": null,
      "grid_auto_columns": null,
      "grid_auto_flow": null,
      "grid_auto_rows": null,
      "grid_column": null,
      "grid_gap": null,
      "grid_row": null,
      "grid_template_areas": null,
      "grid_template_columns": null,
      "grid_template_rows": null,
      "height": null,
      "justify_content": null,
      "justify_items": null,
      "left": null,
      "margin": null,
      "max_height": null,
      "max_width": null,
      "min_height": null,
      "min_width": null,
      "object_fit": null,
      "object_position": null,
      "order": null,
      "overflow": null,
      "overflow_x": null,
      "overflow_y": null,
      "padding": null,
      "right": null,
      "top": null,
      "visibility": null,
      "width": null
     }
    },
    "e852f5f705684f71a5463730be47e947": {
     "model_module": "@jupyter-widgets/controls",
     "model_module_version": "1.5.0",
     "model_name": "DescriptionStyleModel",
     "state": {
      "_model_module": "@jupyter-widgets/controls",
      "_model_module_version": "1.5.0",
      "_model_name": "DescriptionStyleModel",
      "_view_count": null,
      "_view_module": "@jupyter-widgets/base",
      "_view_module_version": "1.2.0",
      "_view_name": "StyleView",
      "description_width": ""
     }
    },
    "fb732e44554f4d17872174e7b9f133e4": {
     "model_module": "@jupyter-widgets/output",
     "model_module_version": "1.0.0",
     "model_name": "OutputModel",
     "state": {
      "_dom_classes": [],
      "_model_module": "@jupyter-widgets/output",
      "_model_module_version": "1.0.0",
      "_model_name": "OutputModel",
      "_view_count": null,
      "_view_module": "@jupyter-widgets/output",
      "_view_module_version": "1.0.0",
      "_view_name": "OutputView",
      "layout": "IPY_MODEL_9f872d14393a441eaf96e2d103a57b98",
      "msg_id": "",
      "outputs": [
       {
        "name": "stdout",
        "output_type": "stream",
        "text": [
         " 0. Go                    :  4.56%\n",
         " 1. Mediterranean Avenue  :  3.29%\n",
         " 2. Community Chest       :  2.97%\n",
         " 3. Baltic Avenue         :  3.02%\n",
         " 4. Income Tax            :  2.91%\n",
         " 5. Reading Railroad      :  3.26%\n",
         " 6. Oriental Avenue       :  2.59%\n",
         " 7. Chance                :  1.05%\n",
         " 8. Vermont Avenue        :  2.31%\n",
         " 9. Connecticut Avenue    :  2.11%\n",
         "10. Just Visiting         :  4.73%\n",
         "11. St. Charles Place     :  2.22%\n",
         "12. Electric Company      :  1.92%\n",
         "13. States Avenue         :  1.61%\n",
         "14. Virginia Avenue       :  1.49%\n",
         "15. Pennsylvania Railroad :  1.58%\n",
         "16. St. James Place       :  1.47%\n",
         "17. Community Chest       :  1.38%\n",
         "18. Tennessee Avenue      :  1.36%\n",
         "19. New York Avenue       :  1.34%\n",
         "20. Free Parking          :  1.15%\n",
         "21. Kentucky Avenue       :  1.14%\n",
         "22. Chance                :  0.44%\n",
         "23. Indiana Avenue        :  1.06%\n",
         "24. Illinois Avenue       :  1.59%\n",
         "25. B&O Railroad          :  1.26%\n",
         "26. Atlantic Avenue       :  1.40%\n",
         "27. Ventnor Avenue        :  1.53%\n",
         "28. Water Works           :  1.97%\n",
         "29. Marvin Gardens        :  2.11%\n",
         "30. Go to Jail            :  0.00%\n",
         "31. Pacific Avenue        :  2.95%\n",
         "32. North Carolina Avenue :  2.96%\n",
         "33. Community Chest       :  3.44%\n",
         "34. Pennsylvania Avenue   :  3.76%\n",
         "35. Short Line            :  3.94%\n",
         "36. Chance                :  1.66%\n",
         "37. Park Place            :  3.50%\n",
         "38. Luxury Tax            :  3.74%\n",
         "39. Boardwalk             :  3.98%\n",
         "40. Jail                  :  3.91%\n",
         "41. Jail                  :  5.31%\n"
        ]
       }
      ]
     }
    },
    "fdb6749b6b0441c08731bb3639bac3a9": {
     "model_module": "@jupyter-widgets/base",
     "model_module_version": "1.2.0",
     "model_name": "LayoutModel",
     "state": {
      "_model_module": "@jupyter-widgets/base",
      "_model_module_version": "1.2.0",
      "_model_name": "LayoutModel",
      "_view_count": null,
      "_view_module": "@jupyter-widgets/base",
      "_view_module_version": "1.2.0",
      "_view_name": "LayoutView",
      "align_content": null,
      "align_items": null,
      "align_self": null,
      "border": null,
      "bottom": null,
      "display": null,
      "flex": null,
      "flex_flow": null,
      "grid_area": null,
      "grid_auto_columns": null,
      "grid_auto_flow": null,
      "grid_auto_rows": null,
      "grid_column": null,
      "grid_gap": null,
      "grid_row": null,
      "grid_template_areas": null,
      "grid_template_columns": null,
      "grid_template_rows": null,
      "height": null,
      "justify_content": null,
      "justify_items": null,
      "left": null,
      "margin": null,
      "max_height": null,
      "max_width": null,
      "min_height": null,
      "min_width": null,
      "object_fit": null,
      "object_position": null,
      "order": null,
      "overflow": null,
      "overflow_x": null,
      "overflow_y": null,
      "padding": null,
      "right": null,
      "top": null,
      "visibility": null,
      "width": null
     }
    },
    "fdb8b6c92fbb464f8388135cd0a7d8d1": {
     "model_module": "@jupyter-widgets/base",
     "model_module_version": "1.2.0",
     "model_name": "LayoutModel",
     "state": {
      "_model_module": "@jupyter-widgets/base",
      "_model_module_version": "1.2.0",
      "_model_name": "LayoutModel",
      "_view_count": null,
      "_view_module": "@jupyter-widgets/base",
      "_view_module_version": "1.2.0",
      "_view_name": "LayoutView",
      "align_content": null,
      "align_items": null,
      "align_self": null,
      "border": null,
      "bottom": null,
      "display": null,
      "flex": null,
      "flex_flow": null,
      "grid_area": null,
      "grid_auto_columns": null,
      "grid_auto_flow": null,
      "grid_auto_rows": null,
      "grid_column": null,
      "grid_gap": null,
      "grid_row": null,
      "grid_template_areas": null,
      "grid_template_columns": null,
      "grid_template_rows": null,
      "height": null,
      "justify_content": null,
      "justify_items": null,
      "left": null,
      "margin": null,
      "max_height": null,
      "max_width": null,
      "min_height": null,
      "min_width": null,
      "object_fit": null,
      "object_position": null,
      "order": null,
      "overflow": null,
      "overflow_x": null,
      "overflow_y": null,
      "padding": null,
      "right": null,
      "top": null,
      "visibility": null,
      "width": null
     }
    }
   }
  }
 },
 "nbformat": 4,
 "nbformat_minor": 4
}
